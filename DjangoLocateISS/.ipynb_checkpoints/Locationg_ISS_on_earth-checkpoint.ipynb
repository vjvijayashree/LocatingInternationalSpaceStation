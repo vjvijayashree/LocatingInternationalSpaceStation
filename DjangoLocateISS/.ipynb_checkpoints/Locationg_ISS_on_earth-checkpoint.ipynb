{
 "cells": [
  {
   "cell_type": "code",
   "execution_count": 1,
   "id": "4ac7c464",
   "metadata": {},
   "outputs": [],
   "source": [
    "#import libraries\n",
    "import urllib.request\n",
    "import json\n",
    "import webbrowser"
   ]
  },
  {
   "cell_type": "code",
   "execution_count": 2,
   "id": "3ef7d280",
   "metadata": {},
   "outputs": [],
   "source": [
    "response=urllib.request.urlopen('http://api.open-notify.org/iss-now.json')"
   ]
  },
  {
   "cell_type": "code",
   "execution_count": 3,
   "id": "6718ce44",
   "metadata": {},
   "outputs": [
    {
     "name": "stdout",
     "output_type": "stream",
     "text": [
      "<http.client.HTTPResponse object at 0x000002428F6CBA30>\n"
     ]
    }
   ],
   "source": [
    "print(response)"
   ]
  },
  {
   "cell_type": "code",
   "execution_count": 4,
   "id": "a4325aa1",
   "metadata": {},
   "outputs": [
    {
     "data": {
      "text/plain": [
       "{'message': 'success',\n",
       " 'iss_position': {'longitude': '60.9402', 'latitude': '50.8690'},\n",
       " 'timestamp': 1630971431}"
      ]
     },
     "execution_count": 4,
     "metadata": {},
     "output_type": "execute_result"
    }
   ],
   "source": [
    "obj=json.loads(response.read())\n",
    "obj"
   ]
  },
  {
   "cell_type": "code",
   "execution_count": 5,
   "id": "d011716b",
   "metadata": {},
   "outputs": [
    {
     "data": {
      "text/plain": [
       "'50.8690'"
      ]
     },
     "execution_count": 5,
     "metadata": {},
     "output_type": "execute_result"
    }
   ],
   "source": [
    "lat=obj['iss_position']['latitude']\n",
    "lat"
   ]
  },
  {
   "cell_type": "code",
   "execution_count": 6,
   "id": "1ae095a2",
   "metadata": {},
   "outputs": [
    {
     "data": {
      "text/plain": [
       "'60.9402'"
      ]
     },
     "execution_count": 6,
     "metadata": {},
     "output_type": "execute_result"
    }
   ],
   "source": [
    "long=obj['iss_position']['longitude']\n",
    "long"
   ]
  },
  {
   "cell_type": "code",
   "execution_count": 7,
   "id": "7adec60b",
   "metadata": {},
   "outputs": [
    {
     "ename": "SyntaxError",
     "evalue": "invalid syntax (<ipython-input-7-c9ef71b11690>, line 1)",
     "output_type": "error",
     "traceback": [
      "\u001b[1;36m  File \u001b[1;32m\"<ipython-input-7-c9ef71b11690>\"\u001b[1;36m, line \u001b[1;32m1\u001b[0m\n\u001b[1;33m    current_position_url='https://www.openstreetmap.org/?mlat=' + str(lat) + '&mlon=' + str(long) +\u001b[0m\n\u001b[1;37m                                                                                                   ^\u001b[0m\n\u001b[1;31mSyntaxError\u001b[0m\u001b[1;31m:\u001b[0m invalid syntax\n"
     ]
    }
   ],
   "source": [
    "current_position_url='https://www.openstreetmap.org/?mlat=' + str(lat) + '&mlon=' + str(long) +'#map=3/' + str(lat) + '/' + str(long)"
   ]
  },
  {
   "cell_type": "code",
   "execution_count": null,
   "id": "2b72e84b",
   "metadata": {},
   "outputs": [],
   "source": [
    "webbrowser.open_new(current_position_url)"
   ]
  }
 ],
 "metadata": {
  "kernelspec": {
   "display_name": "Python 3",
   "language": "python",
   "name": "python3"
  },
  "language_info": {
   "codemirror_mode": {
    "name": "ipython",
    "version": 3
   },
   "file_extension": ".py",
   "mimetype": "text/x-python",
   "name": "python",
   "nbconvert_exporter": "python",
   "pygments_lexer": "ipython3",
   "version": "3.8.8"
  }
 },
 "nbformat": 4,
 "nbformat_minor": 5
}
